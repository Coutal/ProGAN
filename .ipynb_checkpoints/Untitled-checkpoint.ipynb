{
 "cells": [
  {
   "cell_type": "code",
   "execution_count": 1,
   "metadata": {},
   "outputs": [
    {
     "name": "stderr",
     "output_type": "stream",
     "text": [
      "Using TensorFlow backend.\n"
     ]
    }
   ],
   "source": [
    "import tensorflow as tf\n",
    "from keras import backend as K\n",
    "from keras.engine import input_layer\n",
    "from keras.layers import Lambda, Conv2D, LeakyReLU, UpSampling2D, Conv2DTranspose\n",
    "from keras.models import Model"
   ]
  },
  {
   "cell_type": "code",
   "execution_count": 2,
   "metadata": {},
   "outputs": [
    {
     "name": "stdout",
     "output_type": "stream",
     "text": [
      "WARNING:tensorflow:From D:\\logiciels\\Anaconda\\envs\\tf_gpu\\lib\\site-packages\\keras\\backend\\tensorflow_backend.py:74: The name tf.get_default_graph is deprecated. Please use tf.compat.v1.get_default_graph instead.\n",
      "\n"
     ]
    }
   ],
   "source": [
    "def pixelwise_norm(input):\n",
    "    pixel_var = tf.reduce_mean(tf.square(input), 1, keepdims=True)\n",
    "    return input / tf.sqrt(pixel_var + tf.keras.backend.epsilon())\n",
    "\n",
    "\n",
    "pixelNorm = Lambda(pixelwise_norm)"
   ]
  },
  {
   "cell_type": "code",
   "execution_count": null,
   "metadata": {},
   "outputs": [],
   "source": [
    "def conv(input, out_channels, filter_size=3, k=1, padding='SAME', mode=None, output_shape=None):\n",
    "\n",
    "in_shape = tf.shape(input)\n",
    "input_channels = int(input.get_shape()[1])\n",
    "\n",
    "filter_shape = [filter_size, filter_size, out_channels, input_channels]\n",
    "\n",
    "filter = tf.get_variable('filter', filter_shape, initializer=weight_init)\n",
    "fan_in = float(filter_size ** 2 * input_channels)\n",
    "filter = filter * tf.sqrt(2.0 / fan_in)\n",
    "\n",
    "b = tf.get_variable('bias', [1, out_channels, 1, 1], initializer=bias_init)\n",
    "    \n",
    "output = tf.nn.conv2d_transpose(input, filter, output_shape, [1, 1, k, k],\n",
    "            padding=padding, data_format='NCHW')\n",
    "\n",
    "output += b\n",
    "\n",
    "if out_channels == 1:\n",
    "    output = tf.squeeze(output, 3)\n"
   ]
  },
  {
   "cell_type": "code",
   "execution_count": 5,
   "metadata": {},
   "outputs": [
    {
     "name": "stdout",
     "output_type": "stream",
     "text": [
      "_________________________________________________________________\n",
      "Layer (type)                 Output Shape              Param #   \n",
      "=================================================================\n",
      "input_2 (InputLayer)         (None, 512, 1, 1)         0         \n",
      "_________________________________________________________________\n",
      "conv2d_transpose_2 (Conv2DTr (None, 512, 4, 4)         4194816   \n",
      "_________________________________________________________________\n",
      "conv2d_2 (Conv2D)            (None, 512, 4, 4)         148       \n",
      "=================================================================\n",
      "Total params: 4,194,964\n",
      "Trainable params: 4,194,964\n",
      "Non-trainable params: 0\n",
      "_________________________________________________________________\n"
     ]
    }
   ],
   "source": [
    "net = {}\n",
    "net['input'] = input_layer.Input(shape=(512,1,1,))\n",
    "\n",
    "latent_size = 512\n",
    "\n",
    "lvl1 = []\n",
    "#lvl1.append( pixelNorm(net['input']) )\n",
    "lvl1.append( Conv2DTranspose(latent_size, (4,4), activation=\"relu\", data_format=\"channels_first\", use_bias=True)(net['input']) )\n",
    "    \n",
    "#Conv2D(4, channels, output_shape=[tf.shape(lvl1[-1])[0], channels, 4, 4] )\n",
    "lvl1.append( Conv2D(4, (3,3), padding=\"same\", activation=\"relu\", use_bias=True)(lvl1[-1]) )\n",
    "#lvl1.append( LeakyReLU()(lvl1[-1]) )\n",
    "\n",
    "model = Model(inputs=[net['input']], outputs=lvl1[-1])\n",
    "model.summary()"
   ]
  }
 ],
 "metadata": {
  "kernelspec": {
   "display_name": "Python 3",
   "language": "python",
   "name": "python3"
  },
  "language_info": {
   "codemirror_mode": {
    "name": "ipython",
    "version": 3
   },
   "file_extension": ".py",
   "mimetype": "text/x-python",
   "name": "python",
   "nbconvert_exporter": "python",
   "pygments_lexer": "ipython3",
   "version": "3.7.4"
  }
 },
 "nbformat": 4,
 "nbformat_minor": 2
}
